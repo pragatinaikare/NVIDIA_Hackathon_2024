{
  "nbformat": 4,
  "nbformat_minor": 0,
  "metadata": {
    "colab": {
      "provenance": [],
      "gpuType": "A100"
    },
    "kernelspec": {
      "name": "python3",
      "display_name": "Python 3"
    },
    "language_info": {
      "name": "python"
    },
    "accelerator": "GPU"
  },
  "cells": [
    {
      "cell_type": "markdown",
      "source": [
        "# **Installation**"
      ],
      "metadata": {
        "id": "pprtKm74SjW3"
      }
    },
    {
      "cell_type": "code",
      "source": [
        "import time\n",
        "start_time = time.time()"
      ],
      "metadata": {
        "id": "uTXsrJ31nJXW"
      },
      "execution_count": 11,
      "outputs": []
    },
    {
      "cell_type": "code",
      "source": [
        "try:\n",
        "    import kagglehub\n",
        "except ImportError:\n",
        "    !pip install -q kaggle\n"
      ],
      "metadata": {
        "id": "soj5c4ayIN0c"
      },
      "execution_count": 12,
      "outputs": []
    },
    {
      "cell_type": "code",
      "source": [
        "try:\n",
        "    import cudf\n",
        "    import cuml\n",
        "except ImportError:\n",
        "    !pip install \\\n",
        "        --extra-index-url=https://pypi.nvidia.com \\\n",
        "        cudf-cu12==24.10.* cuml-cu12==24.10.*\n"
      ],
      "metadata": {
        "id": "RJDLS5vpSWvj"
      },
      "execution_count": 13,
      "outputs": []
    },
    {
      "cell_type": "code",
      "source": [
        "try:\n",
        "    import category_encoders\n",
        "except ImportError:\n",
        "    !pip install category_encoders\n"
      ],
      "metadata": {
        "id": "yYBW1_k3SwUJ"
      },
      "execution_count": 14,
      "outputs": []
    },
    {
      "cell_type": "markdown",
      "source": [
        "# **Imports**"
      ],
      "metadata": {
        "id": "KvbzLnbRTJaW"
      }
    },
    {
      "cell_type": "code",
      "source": [
        "%load_ext cudf.pandas\n",
        "import pandas as pd\n",
        "from category_encoders import TargetEncoder\n",
        "\n",
        "import numpy as np\n",
        "import seaborn as sns\n",
        "import pandas as pd\n",
        "import matplotlib.pyplot as plt\n",
        "from xgboost import XGBRegressor\n",
        "from sklearn.model_selection import GridSearchCV\n",
        "from sklearn.metrics import mean_squared_error\n",
        "\n",
        "pd.pandas.set_option('display.max_columns',None)"
      ],
      "metadata": {
        "id": "w7Lrts9OTTdW",
        "colab": {
          "base_uri": "https://localhost:8080/"
        },
        "outputId": "ba10b08c-6a2a-4af6-e2f6-da5f6c73286c"
      },
      "execution_count": 15,
      "outputs": [
        {
          "output_type": "stream",
          "name": "stdout",
          "text": [
            "The cudf.pandas extension is already loaded. To reload it, use:\n",
            "  %reload_ext cudf.pandas\n"
          ]
        }
      ]
    },
    {
      "cell_type": "markdown",
      "source": [
        "# Load Kaggle Dataset with:"
      ],
      "metadata": {
        "id": "USRe97vnT_Bz"
      }
    },
    {
      "cell_type": "code",
      "source": [
        "import os\n",
        "import zipfile\n",
        "\n",
        "# Define the file and download paths\n",
        "file_path = '/content/odsc_2024_nvidia_hackathon/train.csv'\n",
        "download_path = '/content/odsc_2024_nvidia_hackathon'\n",
        "odsc_2024_nvidia_hackathon_path = download_path\n",
        "\n",
        "# Execute only if train.csv is not present\n",
        "if not os.path.exists(file_path):\n",
        "    # Hardcode Kaggle credentials\n",
        "    os.environ['KAGGLE_USERNAME'] = 'sushantshelar13'\n",
        "    os.environ['KAGGLE_KEY'] = 'fcb90c109b271a8001a1e4982bb53dc9'\n",
        "\n",
        "    # Ensure download directory exists\n",
        "    os.makedirs(download_path, exist_ok=True)\n",
        "\n",
        "    # Download the dataset\n",
        "    # try:\n",
        "    #     import kagglehub\n",
        "    # except ImportError:\n",
        "    !kaggle competitions download -c odsc-2024-nvidia-hackathon -p {download_path}\n",
        "\n",
        "    # Find and extract the downloaded zip file\n",
        "    for file in os.listdir(download_path):\n",
        "        if file.endswith('.zip'):\n",
        "            with zipfile.ZipFile(os.path.join(download_path, file), 'r') as zip_ref:\n",
        "                zip_ref.extractall(download_path)\n",
        "\n",
        "    # Store the path in a variable\n",
        "    odsc_2024_nvidia_hackathon_path = download_path\n",
        "    # print('Data source import complete and files extracted.')\n"
      ],
      "metadata": {
        "id": "dPmxbsQCnCs3"
      },
      "execution_count": 16,
      "outputs": []
    },
    {
      "cell_type": "markdown",
      "source": [
        "# **Load Data** - Used pandas with cudf for parallel processing"
      ],
      "metadata": {
        "id": "E5sy35ISUKhN"
      }
    },
    {
      "cell_type": "code",
      "source": [
        "train_x = pd.read_csv(f\"{odsc_2024_nvidia_hackathon_path}/train.csv\")[['trickortreat', 'kingofhalloween', 'mumming', 'noon', 'costumes',\n",
        "       'celebrate', 'confectionary', 'predestinated', 'leprechaun', 'headless',\n",
        "       'jacksantino', 'mystical', 'folklore', 'tarantula', 'paranormal',\n",
        "       'northernlights', 'quirky', 'ectoplasm', 'jester', 'nightmare',\n",
        "       'isolation', 'cobwebs', 'sweets', 'duskhour', 'bedford', 'propitiation',\n",
        "       'ritesofpassage', 'kiddies', 'ghost', 'batman', 'applebobbing',\n",
        "       'magical', 'h2o', 'xray', 'cackle', 'mummy', 'easter', 'fest',\n",
        "       'washday', 'wardrobe', 'moonlight', 'theme', 'moon', 'week', 'parades',\n",
        "       'imprisonment', 'worktime', 'haunt', 'frankenstein', 'october',\n",
        "       'scoobydoo', 'rip', 'somerset', 'extravaganza', 'fortunetelling',\n",
        "       'dracula', 'divination', 'kidnap', 'funeral', 'ween', 'nonconformism',\n",
        "       'mischievous', 'mondays', 'batwings', 'fear', 'daysail', 'krakatoa',\n",
        "       'egg', 'tshirt', 'night', 'apotropaicmagic', 'periodoftime', 'almanac',\n",
        "       'dayspring', 'fortnight', 'dungeon', 'flagday', 'leapweek', 'ancestors',\n",
        "       'lurking', 'sympatheticmagic', 'toys', 'lunacy', 'bewitching',\n",
        "       'enchanting', 'casket', 'centiday', 'fire', 'interday', 'fogmachine',\n",
        "       'holi', 'churchyard', 'monsterhunter', 'tabulatable', 'vampire','hallo','y']]"
      ],
      "metadata": {
        "id": "SZiJtWU9Za3b"
      },
      "execution_count": 17,
      "outputs": []
    },
    {
      "cell_type": "markdown",
      "source": [
        "# **`Data Analysis`**"
      ],
      "metadata": {
        "id": "DoMe-Mn8UfN5"
      }
    },
    {
      "cell_type": "markdown",
      "source": [
        "# **Feature Engineering**"
      ],
      "metadata": {
        "id": "jlSg11cgUtRQ"
      }
    },
    {
      "cell_type": "code",
      "source": [
        "train_y = train_x['y']\n",
        "train_x = train_x.drop(columns = ['y'])"
      ],
      "metadata": {
        "id": "5yX0IHnSroL_"
      },
      "execution_count": 18,
      "outputs": []
    },
    {
      "cell_type": "markdown",
      "source": [
        "# **Filling missing values with mean for numerical and most frequent for categorical**"
      ],
      "metadata": {
        "id": "qdlKRHXzOI9v"
      }
    },
    {
      "cell_type": "code",
      "source": [
        "# Identify numerical columns (non-object types)\n",
        "numerical_data_train = train_x.select_dtypes(include=['number']).columns.tolist()\n",
        "\n",
        "# Identify categorical columns (object types)\n",
        "categorical_data_train = train_x.select_dtypes(include=['object']).columns.tolist()\n",
        "\n",
        "# Initialize an empty dictionary to store fill values\n",
        "fill_dict = {}\n",
        "\n",
        "# Define a function to calculate the mean for numeric columns\n",
        "def mean_value(col):\n",
        "    return train_x[col].mean()\n",
        "\n",
        "# Fill missing values for numerical columns\n",
        "for col in numerical_data_train:\n",
        "    if pd.api.types.is_numeric_dtype(train_x[col]):\n",
        "        fill_dict[col] = mean_value(col)  # Only numeric columns\n",
        "    else:\n",
        "        print(f\"Warning: {col} is not numeric. Skipping mean calculation.\")\n",
        "\n",
        "# Fill missing values for categorical columns with their corresponding frequencies\n",
        "for col in categorical_data_train:\n",
        "    frequency_map = train_x[col].value_counts()  # Get frequency of each category\n",
        "    fill_dict[col] = frequency_map  # Store the frequency map in the fill dictionary\n",
        "\n",
        "# Apply the fill dictionary to the DataFrame\n",
        "for col, fill_value in fill_dict.items():\n",
        "    if col in numerical_data_train:\n",
        "        train_x[col].fillna(fill_value, inplace=True)\n",
        "    elif col in categorical_data_train:\n",
        "        # Replace categories with their corresponding frequencies\n",
        "        train_x[col] = train_x[col].map(fill_value).fillna(fill_value.max())"
      ],
      "metadata": {
        "id": "d-KPFTuhxNZw"
      },
      "execution_count": 19,
      "outputs": []
    },
    {
      "cell_type": "markdown",
      "source": [
        "# **Build Model**\n",
        "\n",
        "(n_estimators = 400, max_depth=5) - Choosen after hyper parameter tunning"
      ],
      "metadata": {
        "id": "bUxNo5eOWZtF"
      }
    },
    {
      "cell_type": "code",
      "source": [
        "# Configure XGBRegressor with GPU support\n",
        "Xgb = XGBRegressor(n_estimators = 400, max_depth=5, random_state  = 0, tree_method = \"hist\", device = \"cuda\")\n",
        "Xgb.fit(train_x, train_y)\n"
      ],
      "metadata": {
        "id": "dxosjY4L1b2u"
      },
      "execution_count": null,
      "outputs": []
    },
    {
      "cell_type": "markdown",
      "source": [
        "# **Prediction on train data**"
      ],
      "metadata": {
        "id": "_WiuZB75Xy7G"
      }
    },
    {
      "cell_type": "code",
      "source": [
        "pred_train =  Xgb.predict(train_x)"
      ],
      "metadata": {
        "id": "E1_u4CvPeH2A"
      },
      "execution_count": null,
      "outputs": []
    },
    {
      "cell_type": "code",
      "source": [
        "\n",
        "rmse = np.sqrt(mean_squared_error(train_y.to_numpy(), pred_train))\n",
        "print(\"Train Root Mean Squared Error:\", rmse)\n"
      ],
      "metadata": {
        "id": "L5ribquGeH2B"
      },
      "execution_count": null,
      "outputs": []
    },
    {
      "cell_type": "markdown",
      "source": [
        "# Testing"
      ],
      "metadata": {
        "id": "5GApOYz5uwda"
      }
    },
    {
      "cell_type": "code",
      "source": [
        "test = pd.read_csv(f\"{odsc_2024_nvidia_hackathon_path}/test.csv\")\n",
        "test_x =test[['trickortreat', 'kingofhalloween', 'mumming', 'noon', 'costumes',\n",
        "       'celebrate', 'confectionary', 'predestinated', 'leprechaun', 'headless',\n",
        "       'jacksantino', 'mystical', 'folklore', 'tarantula', 'paranormal',\n",
        "       'northernlights', 'quirky', 'ectoplasm', 'jester', 'nightmare',\n",
        "       'isolation', 'cobwebs', 'sweets', 'duskhour', 'bedford', 'propitiation',\n",
        "       'ritesofpassage', 'kiddies', 'ghost', 'batman', 'applebobbing',\n",
        "       'magical', 'h2o', 'xray', 'cackle', 'mummy', 'easter', 'fest',\n",
        "       'washday', 'wardrobe', 'moonlight', 'theme', 'moon', 'week', 'parades',\n",
        "       'imprisonment', 'worktime', 'haunt', 'frankenstein', 'october',\n",
        "       'scoobydoo', 'rip', 'somerset', 'extravaganza', 'fortunetelling',\n",
        "       'dracula', 'divination', 'kidnap', 'funeral', 'ween', 'nonconformism',\n",
        "       'mischievous', 'mondays', 'batwings', 'fear', 'daysail', 'krakatoa',\n",
        "       'egg', 'tshirt', 'night', 'apotropaicmagic', 'periodoftime', 'almanac',\n",
        "       'dayspring', 'fortnight', 'dungeon', 'flagday', 'leapweek', 'ancestors',\n",
        "       'lurking', 'sympatheticmagic', 'toys', 'lunacy', 'bewitching',\n",
        "       'enchanting', 'casket', 'centiday', 'fire', 'interday', 'fogmachine',\n",
        "       'holi', 'churchyard', 'monsterhunter', 'tabulatable', 'vampire',\n",
        "       'hallo']]\n",
        "\n",
        "\n",
        "\n",
        "\n",
        "# numerical_data_train = testx.select_dtypes(include=['number']).columns.tolist()"
      ],
      "metadata": {
        "id": "Iu1tY21Buutz"
      },
      "execution_count": null,
      "outputs": []
    },
    {
      "cell_type": "code",
      "source": [
        "for col, fill_value in fill_dict.items():\n",
        "    if col in numerical_data_train:\n",
        "        test_x[col].fillna(fill_value, inplace=True)\n",
        "    elif col in categorical_data_train:\n",
        "        # Replace categories with their corresponding frequencies\n",
        "        test_x[col] = test_x[col].map(fill_value).fillna(fill_value.max())"
      ],
      "metadata": {
        "id": "ecCpzOVAeH2C"
      },
      "execution_count": null,
      "outputs": []
    },
    {
      "cell_type": "code",
      "source": [
        "y_test_pred= Xgb.predict(test_x)"
      ],
      "metadata": {
        "id": "Ey3fehUxeH2C"
      },
      "execution_count": null,
      "outputs": []
    },
    {
      "cell_type": "markdown",
      "source": [
        "# **Create Submission file**"
      ],
      "metadata": {
        "id": "ft99cLqUZGyC"
      }
    },
    {
      "cell_type": "code",
      "source": [
        "# Step 2: Create the submission DataFrame\n",
        "submission = pd.DataFrame({ 'id': test['id'].apply(int), 'y': y_test_pred })\n",
        "# Step 3: Save the submission file as a CSV\n",
        "submission.to_csv('sample_submission.csv', index=False)"
      ],
      "metadata": {
        "id": "P7X2VPegeH2C"
      },
      "execution_count": null,
      "outputs": []
    },
    {
      "cell_type": "code",
      "source": [
        "total_time_taken = time.time() - start_time\n",
        "print(f\"Total time taken: {total_time_taken:.2f} seconds\")"
      ],
      "metadata": {
        "id": "-gL0Rhptc7Sf"
      },
      "execution_count": null,
      "outputs": []
    }
  ]
}